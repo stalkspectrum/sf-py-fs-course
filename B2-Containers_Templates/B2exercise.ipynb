{
 "cells": [
  {
   "cell_type": "code",
   "execution_count": 1,
   "metadata": {},
   "outputs": [
    {
     "name": "stdout",
     "output_type": "stream",
     "text": [
      "{'email': 'Julianne.OConner@kory.org', 'id': 4, 'name': 'Patricia Lebsack', 'registered': '2019-01-28 20:54:53', 'username': 'Karianne', 'website': 'kale.biz'}\n"
     ]
    }
   ],
   "source": [
    "#####=====----- B2.7 -----=====#####\n",
    "import json\n",
    "fp = open('B2.7_users.txt')\n",
    "users = json.load(fp)\n",
    "first_user = None\n",
    "for user in users:\n",
    "    if first_user is None or user['registered'] < first_user['registered']:\n",
    "        first_user = user\n",
    "print(first_user)"
   ]
  },
  {
   "cell_type": "code",
   "execution_count": 3,
   "metadata": {},
   "outputs": [
    {
     "name": "stdout",
     "output_type": "stream",
     "text": [
      "0.448607540317978\n",
      "8\n",
      "q\n",
      "2345\n",
      "{'a': 'dsdf'}\n"
     ]
    }
   ],
   "source": [
    "#####=====----- B2.8 -----=====#####\n",
    "import random\n",
    "print(random.random())\n",
    "print(random.randint(0, 10))\n",
    "print(random.choice('abcdefghijklmnopqrstuvwxyz'))\n",
    "lll = [2345, 4, 828, 565, 5, 652, 559, 23, 77, 354, 35, 1]\n",
    "print(random.choice(lll))\n",
    "ttt = 'sadfgjh7', 'o8spe5oinb', '98hpwo', 'we98bw358', 'posae089', ['saed', 'dwsdwd'], {'a': 'dsdf'}, 'sa#rg'\n",
    "print(random.choice(ttt))"
   ]
  },
  {
   "cell_type": "code",
   "execution_count": null,
   "metadata": {},
   "outputs": [],
   "source": []
  }
 ],
 "metadata": {
  "kernelspec": {
   "display_name": "Python 3",
   "language": "python",
   "name": "python3"
  }
 },
 "nbformat": 4,
 "nbformat_minor": 2
}
