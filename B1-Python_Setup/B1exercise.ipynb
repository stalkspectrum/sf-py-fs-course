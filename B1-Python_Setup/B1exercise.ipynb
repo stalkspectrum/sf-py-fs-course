{
 "cells": [
  {
   "cell_type": "code",
   "execution_count": 3,
   "id": "continuous-amazon",
   "metadata": {},
   "outputs": [
    {
     "data": {
      "text/plain": [
       "True"
      ]
     },
     "execution_count": 3,
     "metadata": {},
     "output_type": "execute_result"
    }
   ],
   "source": [
    "#####=====----- B1.4 -----=====#####\n",
    "pi = \"3.141592653589793238462643383279502884197169399375105820974944592307816406286208998628034825342117067982148086513282306647093844609550582231725359408128481117450284102701938521105559644622948954930381964428810975665933446128475648233786783165271201909145648566923460348610454326648213393607260249141273724587006606315588174881520920962829254091715364367892590360011330530548820466521384146951941511609433057270365759591953092186117381932611793105118548074462379962749567351885752724891227938183011949129833673362440656643086021394946395224737190702179860943702770539217176293176752384674818467669405132000568127145263560827785771342757789609173637178721468440901224953430146549585371050792279689258923542019956112129021960864034418159813629774771309960518707211349999998372978049951059731732816096318595024459455346908302642522308253344685035261931188171010003137838752886587533208381420617177669147303598253490428755468731159562863882353787593751957781857780532171226806613001927876611195909216420198\"\n",
    "substring = \"70217\"\n",
    "substring in pi"
   ]
  },
  {
   "cell_type": "code",
   "execution_count": 13,
   "id": "outstanding-school",
   "metadata": {
    "scrolled": true
   },
   "outputs": [
    {
     "name": "stdout",
     "output_type": "stream",
     "text": [
      "Александр\n",
      "Ирина\n",
      "Олег\n",
      "Екатерина\n"
     ]
    }
   ],
   "source": [
    "#####=====----- B1.9 -----=====#####\n",
    "names = [ \"Константин\", \"Александр\", \"Ирина\", \"Григорий\", \"Олег\", \"Екатерина\", \"Дарья\" ]\n",
    "vowels = [ \"А\", \"Е\", \"Ё\", \"И\", \"О\", \"У\", \"Ы\", \"Э\", \"Ю\", \"Я\" ]\n",
    "i = 0\n",
    "while i < len(names) - 1:\n",
    "    if names[i][0] in vowels:\n",
    "        print(names[i])\n",
    "    i += 1"
   ]
  },
  {
   "cell_type": "code",
   "execution_count": 9,
   "id": "understood-berkeley",
   "metadata": {},
   "outputs": [
    {
     "name": "stdout",
     "output_type": "stream",
     "text": [
      "[0, 1, 4, 9, 16, 25, 36, 49, 64, 81]\n"
     ]
    }
   ],
   "source": [
    "#####=====----- B1.10 -----=====#####\n",
    "squares = []\n",
    "for number in range(10):\n",
    "    squares.append(number ** 2)\n",
    "print(squares)"
   ]
  },
  {
   "cell_type": "code",
   "execution_count": 12,
   "id": "welsh-aviation",
   "metadata": {},
   "outputs": [
    {
     "name": "stdout",
     "output_type": "stream",
     "text": [
      "['Anna', 'Bob', 'Fanny', 'Lisa', 'Violet']\n"
     ]
    }
   ],
   "source": [
    "#####=====- B1.11 -----=====#####\n",
    "names_len = {}\n",
    "people = [ 'Bob', 'Lisa', 'Anna', 'Fanny', 'Violet' ]\n",
    "for person in people:\n",
    "    names_len[person] = len(person)\n",
    "keys_ = list(names_len.keys())\n",
    "keys_.sort()\n",
    "print(keys_)"
   ]
  },
  {
   "cell_type": "code",
   "execution_count": 14,
   "id": "remarkable-writer",
   "metadata": {},
   "outputs": [
    {
     "name": "stdout",
     "output_type": "stream",
     "text": [
      "11.234687 MB\n"
     ]
    }
   ],
   "source": [
    "#####=====----- B1.13 -----=====#####\n",
    "events = [\n",
    "    {\n",
    "        \"authenticated\": \"antoine.dickerson\",\n",
    "        \"url\": \"https://www.christywatts.com/735/201.php\",\n",
    "        \"timestamp\": \"2016-12-24 16:50:08\",\n",
    "        \"user_agent\": \"Mozilla/5.0 (Windows NT 6.1; WOW64; rv:45.0) Gecko/20100101 Firefox/45.0\",\n",
    "        \"ip\": \"53.143.50.131\",\n",
    "        \"res_status\": 404,\n",
    "        \"res_size\": 4129136,\n",
    "    },\n",
    "    {\n",
    "        \"authenticated\": \"patrice.camacho\",\n",
    "        \"url\": \"http://www.austinwalker.com/981.png\",\n",
    "        \"timestamp\": \"2016-12-24 16:50:08\",\n",
    "        \"user_agent\": \"Mozilla/5.0 (Macintosh; Intel Mac OS X 10_11_5) AppleWebKit/537.36 (KHTML, like Gecko) Chrome/51.0.2704.84 Safari/537.36\",\n",
    "        \"ip\": \"48.26.166.195\",\n",
    "        \"res_status\": 200,\n",
    "        \"res_size\": 590813,\n",
    "    },\n",
    "    {\n",
    "        \"authenticated\": \"maurice.francis\",\n",
    "        \"url\": \"https://www.frankie-paul.com/182.php\",\n",
    "        \"timestamp\": \"2016-12-24 16:50:08\",\n",
    "        \"user_agent\": \"Mozilla/5.0 (Windows NT 10.0; WOW64) AppleWebKit/537.36 (KHTML, like Gecko) Chrome/51.0.2704.84 Safari/537.36\",\n",
    "        \"ip\": \"117.45.110.155\",\n",
    "        \"res_status\": 200,\n",
    "        \"res_size\": 3103266,\n",
    "    },\n",
    "    {\n",
    "        \"authenticated\": \"-\",\n",
    "        \"url\": \"https://www.nicolemckinney.com/631/784/669/591.html\",\n",
    "        \"timestamp\": \"2016-12-24 16:50:08\",\n",
    "        \"user_agent\": \"Mozilla/5.0 (X11; Ubuntu; Linux x86_64; rv:47.0) Gecko/20100101 Firefox/47.0\",\n",
    "        \"ip\": \"66.220.33.180\",\n",
    "        \"res_status\": 404,\n",
    "        \"res_size\": 1812680,\n",
    "    },\n",
    "    {\n",
    "        \"authenticated\": \"-\",\n",
    "        \"url\": \"https://www.abbeyhickman.com/391.jpg\",\n",
    "        \"timestamp\": \"2016-12-24 16:50:08\",\n",
    "        \"user_agent\": \"Mozilla/5.0 (Windows NT 6.3; WOW64; rv:47.0) Gecko/20100101 Firefox/47.0\",\n",
    "        \"ip\": \"181.196.3.20\",\n",
    "        \"res_status\": 200,\n",
    "        \"res_size\": 1598792,\n",
    "    },\n",
    "]\n",
    "\n",
    "total_size = 0\n",
    "for event in events:\n",
    "    total_size = total_size + event['res_size']\n",
    "print(total_size / 1000000, 'MB')"
   ]
  },
  {
   "cell_type": "code",
   "execution_count": null,
   "id": "functioning-matthew",
   "metadata": {},
   "outputs": [],
   "source": []
  }
 ],
 "metadata": {
  "kernelspec": {
   "display_name": "Python 3",
   "language": "python",
   "name": "python3"
  },
  "language_info": {
   "codemirror_mode": {
    "name": "ipython",
    "version": 3
   },
   "file_extension": ".py",
   "mimetype": "text/x-python",
   "name": "python",
   "nbconvert_exporter": "python",
   "pygments_lexer": "ipython3",
   "version": "3.9.2"
  }
 },
 "nbformat": 4,
 "nbformat_minor": 5
}
